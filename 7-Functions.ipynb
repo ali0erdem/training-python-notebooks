{
 "cells": [
  {
   "cell_type": "markdown",
   "metadata": {},
   "source": [
    "## Functions"
   ]
  },
  {
   "cell_type": "code",
   "execution_count": 2,
   "metadata": {},
   "outputs": [
    {
     "name": "stdout",
     "output_type": "stream",
     "text": [
      "144\n"
     ]
    }
   ],
   "source": [
    "def square(x):\n",
    "    return x*x\n",
    "\n",
    "result = square(12)\n",
    "print(result)"
   ]
  },
  {
   "cell_type": "code",
   "execution_count": 3,
   "metadata": {},
   "outputs": [
    {
     "name": "stdout",
     "output_type": "stream",
     "text": [
      "144\n"
     ]
    }
   ],
   "source": [
    "def square(x):\n",
    "    print(x*x) # we don't have to return a value.\n",
    "\n",
    "square(12) # this function prints the result not returns."
   ]
  },
  {
   "cell_type": "code",
   "execution_count": 4,
   "metadata": {},
   "outputs": [
    {
     "name": "stdout",
     "output_type": "stream",
     "text": [
      "odd\n"
     ]
    }
   ],
   "source": [
    "def even_or_odd(n):\n",
    "    if n % 2 == 0:\n",
    "        print(\"even\")\n",
    "        return\n",
    "    else:\n",
    "        print(\"odd\")\n",
    "        return\n",
    "\n",
    "even_or_odd(29)"
   ]
  },
  {
   "cell_type": "code",
   "execution_count": 5,
   "metadata": {},
   "outputs": [
    {
     "name": "stdout",
     "output_type": "stream",
     "text": [
      "odd\n",
      "None\n"
     ]
    }
   ],
   "source": [
    "num = even_or_odd(29)\n",
    "print(num) # It prints 'odd' but return value is 'None'"
   ]
  },
  {
   "cell_type": "code",
   "execution_count": 6,
   "metadata": {},
   "outputs": [],
   "source": [
    "#There are some special objects.\n",
    "#They are generally have 2 leading 2 trailing underscore. Like __name__\n",
    "#It's really hard to pronounce. \n",
    "#\"Dunder\" is an acronym of \"double underscore\"\n",
    "# __name__ --> \"dunder name\""
   ]
  },
  {
   "cell_type": "markdown",
   "metadata": {},
   "source": [
    "### Special variable \\_\\_name\\_\\_ "
   ]
  },
  {
   "cell_type": "code",
   "execution_count": null,
   "metadata": {},
   "outputs": [],
   "source": [
    "'''__name__ allowing us to DETECT whether a module is run as a script \n",
    "or imported into another module.'''"
   ]
  },
  {
   "cell_type": "code",
   "execution_count": null,
   "metadata": {},
   "outputs": [],
   "source": [
    "\"\"\"from urllib.request import urlopen\n",
    "\n",
    "def fetch_words():\n",
    "    story = urlopen(\"http://sixty-north.com/c/t.txt\")\n",
    "    story_words = []\n",
    "\n",
    "    for line in story:\n",
    "        line_words = line.decode('utf8').split()\n",
    "        for word in line_words:\n",
    "            story_words.append(word)\n",
    "\n",
    "    story.close()\n",
    "\n",
    "    for word in story_words:\n",
    "        print(word)\n",
    "\n",
    "print(__name__)\n",
    "\n",
    "if __name__ == __main__:\n",
    "    fetch_words()\n",
    "\"\"\""
   ]
  },
  {
   "cell_type": "code",
   "execution_count": 7,
   "metadata": {},
   "outputs": [
    {
     "name": "stdout",
     "output_type": "stream",
     "text": [
      "words\n"
     ]
    }
   ],
   "source": [
    "import words \n",
    "#when we import words module, (we can see above)\n",
    "#__name__ variable takes the module name as we expected."
   ]
  },
  {
   "cell_type": "code",
   "execution_count": null,
   "metadata": {},
   "outputs": [],
   "source": [
    "# if we run the module as a script (python words.py)\n",
    "# __name__ variable would take __main__ value. \n",
    "# Then, run the fetch_words function."
   ]
  }
 ],
 "metadata": {
  "kernelspec": {
   "display_name": "Python 3",
   "language": "python",
   "name": "python3"
  },
  "language_info": {
   "codemirror_mode": {
    "name": "ipython",
    "version": 3
   },
   "file_extension": ".py",
   "mimetype": "text/x-python",
   "name": "python",
   "nbconvert_exporter": "python",
   "pygments_lexer": "ipython3",
   "version": "3.7.7"
  }
 },
 "nbformat": 4,
 "nbformat_minor": 4
}
