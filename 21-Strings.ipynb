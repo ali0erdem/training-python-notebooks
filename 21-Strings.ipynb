{
 "cells": [
  {
   "cell_type": "code",
   "execution_count": 6,
   "metadata": {},
   "outputs": [],
   "source": [
    "# Strings are immutable.\n",
    "# We can not modify them. \n",
    "# Everytime we create a new object and assign the name reference."
   ]
  },
  {
   "cell_type": "code",
   "execution_count": 2,
   "metadata": {},
   "outputs": [
    {
     "name": "stdout",
     "output_type": "stream",
     "text": [
      "alierdem\n"
     ]
    },
    {
     "data": {
      "text/plain": [
       "8"
      ]
     },
     "execution_count": 2,
     "metadata": {},
     "output_type": "execute_result"
    }
   ],
   "source": [
    "name = \"ali\"\n",
    "surname = \"erdem\"\n",
    "\n",
    "full_name = name + surname\n",
    "\n",
    "print(full_name)\n",
    "len(full_name)"
   ]
  },
  {
   "cell_type": "code",
   "execution_count": 5,
   "metadata": {},
   "outputs": [
    {
     "name": "stdout",
     "output_type": "stream",
     "text": [
      "ali1\n",
      "ali11\n",
      "ali111\n"
     ]
    }
   ],
   "source": [
    "s = \"ali\"\n",
    "s += \"1\"\n",
    "print(s)\n",
    "s += \"1\"\n",
    "print(s)\n",
    "s += \"1\"\n",
    "print(s)"
   ]
  },
  {
   "cell_type": "code",
   "execution_count": 11,
   "metadata": {},
   "outputs": [
    {
     "name": "stdout",
     "output_type": "stream",
     "text": [
      "ali;cur;vefa\n",
      "['ali', 'cur', 'vefa']\n"
     ]
    }
   ],
   "source": [
    "# Instead of + operator we should use \"join\" method.\n",
    "jnames = ';'.join([\"ali\", \"cur\", \"vefa\"])\n",
    "print(jnames)\n",
    "\n",
    "snames = jnames.split(\";\")\n",
    "print(snames)"
   ]
  },
  {
   "cell_type": "code",
   "execution_count": 15,
   "metadata": {},
   "outputs": [
    {
     "name": "stdout",
     "output_type": "stream",
     "text": [
      "London\n",
      "Edinburgh\n"
     ]
    }
   ],
   "source": [
    "# Partition method is another useful one.\n",
    "# It divides the string 3 parts. (Before seperator, seperator itself, after seperator)\n",
    "# It returns tuple. \n",
    "\n",
    "text = \"London:Edinburgh\"\n",
    "\n",
    "departure, _ , destination = text.partition(\":\") \n",
    "# There is an unwritten convention. \n",
    "# Underscore variable name is for unused or dummy values. \n",
    "print(departure)\n",
    "print(destination)"
   ]
  },
  {
   "cell_type": "code",
   "execution_count": 17,
   "metadata": {},
   "outputs": [
    {
     "data": {
      "text/plain": [
       "'The age of Ali is 29'"
      ]
     },
     "execution_count": 17,
     "metadata": {},
     "output_type": "execute_result"
    }
   ],
   "source": [
    "# Format Method\n",
    "# We use it on strings that contain so-called replacement fields.\n",
    "\n",
    "\"The age of {0} is {1}\".format(\"Ali\", 29)\n",
    "# values are used by zero based index."
   ]
  },
  {
   "cell_type": "code",
   "execution_count": 19,
   "metadata": {},
   "outputs": [
    {
     "data": {
      "text/plain": [
       "\"The age of Ali is 29. Ali's birthday is on October 22.\""
      ]
     },
     "execution_count": 19,
     "metadata": {},
     "output_type": "execute_result"
    }
   ],
   "source": [
    "\"The age of {0} is {1}. {0}'s birthday is on {2}.\".format(\"Ali\", 29, \"October 22\")\n",
    "# we can use format values more than one."
   ]
  },
  {
   "cell_type": "code",
   "execution_count": 23,
   "metadata": {},
   "outputs": [
    {
     "data": {
      "text/plain": [
       "'Current position 60N 5E'"
      ]
     },
     "execution_count": 23,
     "metadata": {},
     "output_type": "execute_result"
    }
   ],
   "source": [
    "# We can use keywords instead of index numbers.\n",
    "\n",
    "\"Current position {lati}, {long}\".format(lati = \"60N\", long = \"5E\")"
   ]
  },
  {
   "cell_type": "code",
   "execution_count": 27,
   "metadata": {},
   "outputs": [
    {
     "data": {
      "text/plain": [
       "'Current position 60N, 5E'"
      ]
     },
     "execution_count": 27,
     "metadata": {},
     "output_type": "execute_result"
    }
   ],
   "source": [
    "# We can also select from object elements.\n",
    "\n",
    "\"Current position {pos[0]}, {pos[1]}\".format(pos = (\"60N\", \"5E\"))"
   ]
  },
  {
   "cell_type": "code",
   "execution_count": 29,
   "metadata": {},
   "outputs": [
    {
     "data": {
      "text/plain": [
       "'Math constants pi=3.141592653589793, e=2.718281828459045'"
      ]
     },
     "execution_count": 29,
     "metadata": {},
     "output_type": "execute_result"
    }
   ],
   "source": [
    "# We even pass modules. You know modules are also objects.\n",
    "\n",
    "import math\n",
    "\n",
    "\"Math constants pi={m.pi}, e={m.e}\".format(m=math)"
   ]
  },
  {
   "cell_type": "code",
   "execution_count": 32,
   "metadata": {},
   "outputs": [
    {
     "data": {
      "text/plain": [
       "'Math constants pi=3.142, e=2.718'"
      ]
     },
     "execution_count": 32,
     "metadata": {},
     "output_type": "execute_result"
    }
   ],
   "source": [
    "# We can format numbers like \".3f\"\n",
    "\n",
    "\"Math constants pi={m.pi:.3f}, e={m.e:.3f}\".format(m=math)"
   ]
  },
  {
   "cell_type": "code",
   "execution_count": 35,
   "metadata": {},
   "outputs": [
    {
     "data": {
      "text/plain": [
       "'My name is ali and surname is erdem'"
      ]
     },
     "execution_count": 35,
     "metadata": {},
     "output_type": "execute_result"
    }
   ],
   "source": [
    "# After python 3.6 F STRINGS are introduced. PEP 498\n",
    "# f strings are more readable.\n",
    "# We can pass python expression into curly braces.\n",
    "# Result of these expressions will be inserted in runtime.\n",
    "\n",
    "name = \"ali\"\n",
    "surname = \"erdem\"\n",
    "\n",
    "f\"My name is {name} and surname is {surname}\""
   ]
  },
  {
   "cell_type": "code",
   "execution_count": 44,
   "metadata": {},
   "outputs": [
    {
     "data": {
      "text/plain": [
       "'Current time is 2020-04-29T00:14:54.396950'"
      ]
     },
     "execution_count": 44,
     "metadata": {},
     "output_type": "execute_result"
    }
   ],
   "source": [
    "import datetime\n",
    "\n",
    "f\"Current time is {datetime.datetime.now().isoformat()}\""
   ]
  }
 ],
 "metadata": {
  "kernelspec": {
   "display_name": "Python 3",
   "language": "python",
   "name": "python3"
  },
  "language_info": {
   "codemirror_mode": {
    "name": "ipython",
    "version": 3
   },
   "file_extension": ".py",
   "mimetype": "text/x-python",
   "name": "python",
   "nbconvert_exporter": "python",
   "pygments_lexer": "ipython3",
   "version": "3.7.7"
  }
 },
 "nbformat": 4,
 "nbformat_minor": 4
}
