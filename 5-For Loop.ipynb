{
 "cells": [
  {
   "cell_type": "markdown",
   "metadata": {},
   "source": [
    "## For Loop"
   ]
  },
  {
   "cell_type": "code",
   "execution_count": 1,
   "metadata": {},
   "outputs": [
    {
     "name": "stdout",
     "output_type": "stream",
     "text": [
      "denizli\n",
      "istanbul\n",
      "muğla\n"
     ]
    }
   ],
   "source": [
    "cities = [\"denizli\", \"istanbul\", \"muğla\"] # we can easily iterate over list's objects.\n",
    "\n",
    "for city in cities:\n",
    "    print(city)"
   ]
  },
  {
   "cell_type": "code",
   "execution_count": 7,
   "metadata": {},
   "outputs": [
    {
     "name": "stdout",
     "output_type": "stream",
     "text": [
      "ali's age is 29\n",
      "cur's age is 28\n",
      "vefa's age is 1.5\n"
     ]
    }
   ],
   "source": [
    "ages = {\"ali\":29,\n",
    "        \"cur\":28,\n",
    "        \"vefa\":1.5\n",
    "       }\n",
    "\n",
    "for name in ages: # dicts return key's to get the its value in the body of the for loop.\n",
    "    print(name + \"'s age is\", ages[name])"
   ]
  }
 ],
 "metadata": {
  "kernelspec": {
   "display_name": "Python 3",
   "language": "python",
   "name": "python3"
  },
  "language_info": {
   "codemirror_mode": {
    "name": "ipython",
    "version": 3
   },
   "file_extension": ".py",
   "mimetype": "text/x-python",
   "name": "python",
   "nbconvert_exporter": "python",
   "pygments_lexer": "ipython3",
   "version": "3.7.7"
  }
 },
 "nbformat": 4,
 "nbformat_minor": 4
}
