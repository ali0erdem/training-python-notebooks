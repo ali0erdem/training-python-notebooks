{
 "cells": [
  {
   "cell_type": "code",
   "execution_count": 13,
   "metadata": {},
   "outputs": [
    {
     "data": {
      "text/plain": [
       "500"
      ]
     },
     "execution_count": 13,
     "metadata": {},
     "output_type": "execute_result"
    }
   ],
   "source": [
    "x = 100 # Int objects are immutable.\n",
    "\n",
    "# Python creates an int object with a value 100\n",
    "# and object reference with the name x\n",
    "# Python arranges for x to refer to int object.\n",
    "\n",
    "x = 500\n",
    "\n",
    "# Int objects are immutable.\n",
    "# Python creates another int object with a value 500.\n",
    "# Now x refers to 500 which is newly created object.\n",
    "\n",
    "# Python Garbage Collector wil reclaim it. Simply erase it\n",
    "\n",
    "x"
   ]
  },
  {
   "cell_type": "code",
   "execution_count": 14,
   "metadata": {},
   "outputs": [
    {
     "name": "stdout",
     "output_type": "stream",
     "text": [
      "500\n",
      "571\n"
     ]
    }
   ],
   "source": [
    "y = x\n",
    "\n",
    "# Now 2 object references are pointed into same int object.\n",
    "\n",
    "print(y)\n",
    "\n",
    "x = 571 \n",
    "\n",
    "# When we reassign x to a new integer, \n",
    "# y still refers to old int object which is 500.\n",
    "\n",
    "print(x)\n",
    "\n",
    "# There is no job for Python Garbage Collector to do\n",
    "# Because all objects are reachable from live references."
   ]
  },
  {
   "cell_type": "code",
   "execution_count": 4,
   "metadata": {},
   "outputs": [
    {
     "name": "stdout",
     "output_type": "stream",
     "text": [
      "nums [1, 5]\n",
      "odds [1, 5]\n",
      "new nums [1, 3]\n",
      "new odds [1, 3]\n"
     ]
    }
   ],
   "source": [
    "nums = [1, 5] #List objects are mutable.\n",
    "print(\"nums\", nums)\n",
    "\n",
    "odds = nums\n",
    "print(\"odds\", odds)\n",
    "\n",
    "nums[1] = 3\n",
    "print(\"new nums\", nums)\n",
    "print(\"new odds\", odds) \n",
    "# odds list has changed as well. \n",
    "# Because nums and odds refer to same object.\n"
   ]
  },
  {
   "cell_type": "code",
   "execution_count": 7,
   "metadata": {},
   "outputs": [
    {
     "name": "stdout",
     "output_type": "stream",
     "text": [
      "num_list : [1, 3, 5, 39]\n",
      "l is : [1, 3, 5, 39]\n"
     ]
    }
   ],
   "source": [
    "l = [1, 3, 5]\n",
    "\n",
    "def modify(num_list):\n",
    "    num_list.append(39)\n",
    "    print(\"num_list :\", num_list)\n",
    "\n",
    "modify(l)\n",
    "# When we pass a reference(\"l\") into a function, \n",
    "# Essentially formal reference(\"num_list\") is assinged to object that \"l\" refers.\n",
    "# Both reference \"l\" and \"num_list\" refer to same list object.\n",
    "# If we make any change on the list, It will effect list reference(\"l\") outside the function\n",
    "print(\"l is :\", l)\n",
    "# Both ref. changed. Because object is changed."
   ]
  },
  {
   "cell_type": "code",
   "execution_count": 8,
   "metadata": {},
   "outputs": [
    {
     "name": "stdout",
     "output_type": "stream",
     "text": [
      "r_list is : [3, 6, 9]\n",
      "x is : [12, 24, 36]\n"
     ]
    }
   ],
   "source": [
    "x = [12, 24, 36]\n",
    "\n",
    "def replace(r_list):\n",
    "    r_list = [3, 6, 9]\n",
    "    print(\"r_list is :\", r_list)\n",
    "\n",
    "replace(x)\n",
    "# When fuction is initialized, r_list refers to same object with x refers.\n",
    "# Inside function body r_list assinged to new object without changing the old object.\n",
    "# Therefore, list reference(\"x\") is not changed. \n",
    "print(\"x is :\", x)"
   ]
  },
  {
   "cell_type": "code",
   "execution_count": 11,
   "metadata": {},
   "outputs": [
    {
     "name": "stdout",
     "output_type": "stream",
     "text": [
      "c is : [17, 24, 25]\n",
      "f is : [17, 24, 25]\n"
     ]
    }
   ],
   "source": [
    "# We can modify objects through function argument references. \n",
    "\n",
    "def replace_contents(c):\n",
    "    c[0] = 17\n",
    "    c[1] = 24\n",
    "    c[2] = 25\n",
    "    print(\"c is :\", c)\n",
    "\n",
    "f = [14, 15, 16]\n",
    "\n",
    "replace_contents(f)\n",
    "print(\"f is :\", f)"
   ]
  },
  {
   "cell_type": "code",
   "execution_count": 13,
   "metadata": {},
   "outputs": [
    {
     "data": {
      "text/plain": [
       "True"
      ]
     },
     "execution_count": 13,
     "metadata": {},
     "output_type": "execute_result"
    }
   ],
   "source": [
    "c = [7, 24, 25]\n",
    "\n",
    "def f(x):\n",
    "    return x\n",
    "\n",
    "d = f(c)\n",
    "\n",
    "d is c # It returns true. It means there is no copies of object were made.\n",
    "# Both refer to same object."
   ]
  },
  {
   "cell_type": "markdown",
   "metadata": {},
   "source": [
    "**Function arguents are transferred by what is called PASS-BY-OBJECT-REFERENCE**\n",
    "\n",
    "**References to objects are copied. NOT the objects.**"
   ]
  }
 ],
 "metadata": {
  "kernelspec": {
   "display_name": "Python 3",
   "language": "python",
   "name": "python3"
  },
  "language_info": {
   "codemirror_mode": {
    "name": "ipython",
    "version": 3
   },
   "file_extension": ".py",
   "mimetype": "text/x-python",
   "name": "python",
   "nbconvert_exporter": "python",
   "pygments_lexer": "ipython3",
   "version": "3.7.7"
  }
 },
 "nbformat": 4,
 "nbformat_minor": 4
}
