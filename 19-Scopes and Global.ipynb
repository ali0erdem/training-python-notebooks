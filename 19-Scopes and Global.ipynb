{
 "cells": [
  {
   "cell_type": "markdown",
   "metadata": {},
   "source": [
    "There for Scope Types in Python.\n",
    "From Narrowest to Broadest:\n",
    "\n",
    "1- Local     : Inside the current function.  \n",
    "2- Enclosing : Inside enclosing functions.  \n",
    "3- Global    : At the top level of the module.  \n",
    "4- Built-In  : In the special builtins module.  "
   ]
  },
  {
   "cell_type": "code",
   "execution_count": 3,
   "metadata": {},
   "outputs": [],
   "source": [
    "count = 0"
   ]
  },
  {
   "cell_type": "code",
   "execution_count": 4,
   "metadata": {},
   "outputs": [
    {
     "name": "stdout",
     "output_type": "stream",
     "text": [
      "2\n"
     ]
    }
   ],
   "source": [
    "def show_counts():\n",
    "    count = 2 # local Scope variable\n",
    "    print(count)\n",
    "\n",
    "show_counts() \n",
    "# When function runs, wants to print count value. \n",
    "# First, it looks local variables and finds it."
   ]
  },
  {
   "cell_type": "code",
   "execution_count": 5,
   "metadata": {},
   "outputs": [
    {
     "name": "stdout",
     "output_type": "stream",
     "text": [
      "0\n"
     ]
    }
   ],
   "source": [
    "def show_counts():\n",
    "    print(count)\n",
    "\n",
    "show_counts() \n",
    "# There is no lacal variable named count.\n",
    "# Then function starts to look for count variable in global scope.\n",
    "# Then prints \"0\"."
   ]
  },
  {
   "cell_type": "code",
   "execution_count": 6,
   "metadata": {},
   "outputs": [],
   "source": [
    "def set_count(c): # Let's define a function that sets count's value. \n",
    "    count = c"
   ]
  },
  {
   "cell_type": "code",
   "execution_count": 7,
   "metadata": {},
   "outputs": [],
   "source": [
    "set_count(5)"
   ]
  },
  {
   "cell_type": "code",
   "execution_count": 8,
   "metadata": {},
   "outputs": [
    {
     "name": "stdout",
     "output_type": "stream",
     "text": [
      "0\n"
     ]
    }
   ],
   "source": [
    "show_counts()\n",
    "# When we check it, It still shows 0.\n",
    "# Because set function creates a local variable named count and assign value 5.\n",
    "# To change count variable that is outside the function, we need to use GLOBAL keyword."
   ]
  },
  {
   "cell_type": "markdown",
   "metadata": {},
   "source": [
    "## GLOBAL KEYWORD"
   ]
  },
  {
   "cell_type": "code",
   "execution_count": 10,
   "metadata": {},
   "outputs": [
    {
     "name": "stdout",
     "output_type": "stream",
     "text": [
      "5\n"
     ]
    }
   ],
   "source": [
    "def set_count(c):\n",
    "    global count # It enable us to reach to global variable from inside the function.\n",
    "    count = c\n",
    "\n",
    "set_count(5)\n",
    "show_counts()"
   ]
  },
  {
   "cell_type": "code",
   "execution_count": null,
   "metadata": {},
   "outputs": [],
   "source": []
  }
 ],
 "metadata": {
  "kernelspec": {
   "display_name": "Python 3",
   "language": "python",
   "name": "python3"
  },
  "language_info": {
   "codemirror_mode": {
    "name": "ipython",
    "version": 3
   },
   "file_extension": ".py",
   "mimetype": "text/x-python",
   "name": "python",
   "nbconvert_exporter": "python",
   "pygments_lexer": "ipython3",
   "version": "3.7.7"
  }
 },
 "nbformat": 4,
 "nbformat_minor": 4
}
