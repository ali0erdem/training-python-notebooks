{
 "cells": [
  {
   "cell_type": "markdown",
   "metadata": {},
   "source": [
    "**There are 2 approaches to fails in python.\n",
    "\n",
    "* LBYL (**L**ook **B**efore **Y**ou **L**eap) --> Check all preconditions\n",
    "* EAFP (**E**asier to **A**sk **F**orgiveness than **P**ermission) --> Prepare for consequences\n"
   ]
  },
  {
   "cell_type": "markdown",
   "metadata": {},
   "source": [
    "## Python Prefers EAFP."
   ]
  },
  {
   "cell_type": "code",
   "execution_count": 5,
   "metadata": {},
   "outputs": [
    {
     "name": "stdout",
     "output_type": "stream",
     "text": [
      "Error: [Errno 2] No such file or directory: 'C:\\\\Users\\\\aerdem'\n"
     ]
    }
   ],
   "source": [
    "# This is more pythonic way.\n",
    "\n",
    "path = r\"C:\\Users\\aerdem\"\n",
    "\n",
    "try:\n",
    "    open(path)\n",
    "except OSError as e:\n",
    "    print(f\"Error: {e}\")"
   ]
  },
  {
   "cell_type": "markdown",
   "metadata": {},
   "source": [
    "### Errors Should Never Pass Silently, UNLESS explicitly silenced."
   ]
  },
  {
   "cell_type": "code",
   "execution_count": 28,
   "metadata": {},
   "outputs": [
    {
     "name": "stdout",
     "output_type": "stream",
     "text": [
      "No module named 'deneme'\n",
      "sys module is inserted instead deneme\n"
     ]
    }
   ],
   "source": [
    "# An example \n",
    "\n",
    "try:\n",
    "    import deneme   \n",
    "except ModuleNotFoundError as e: # This is how exceptions are silenced explicitly.\n",
    "    print(e)\n",
    "    import sys\n",
    "    print(\"sys module is inserted instead deneme\")\n",
    "\n",
    "    "
   ]
  },
  {
   "cell_type": "code",
   "execution_count": null,
   "metadata": {},
   "outputs": [],
   "source": []
  },
  {
   "cell_type": "code",
   "execution_count": 7,
   "metadata": {},
   "outputs": [],
   "source": [
    "# We additionally have FINALLY keyword to try-except block.\n",
    "\n",
    "# finally block is executed no matter how try block terminates.\n",
    "\n",
    "import os \n",
    "import sys\n",
    "\n",
    "def make_at(path, dir_name):\n",
    "    original_path = os.getcwd()\n",
    "    os.chdir(path)\n",
    "    \n",
    "    try:\n",
    "        os.mkdir(dir_name)\n",
    "    except OSError as e:\n",
    "        print(e, file=sys.stderr)\n",
    "        raise\n",
    "    finally:\n",
    "        os.chdir(original_path)\n",
    "\n",
    "# Finally block always executes."
   ]
  },
  {
   "cell_type": "code",
   "execution_count": 13,
   "metadata": {},
   "outputs": [
    {
     "data": {
      "text/plain": [
       "'C:\\\\Users\\\\aerde\\\\Desktop\\\\pluralsight-python-path'"
      ]
     },
     "execution_count": 13,
     "metadata": {},
     "output_type": "execute_result"
    }
   ],
   "source": [
    "a = os.getcwd()\n",
    "\n",
    "a"
   ]
  }
 ],
 "metadata": {
  "kernelspec": {
   "display_name": "Python 3",
   "language": "python",
   "name": "python3"
  },
  "language_info": {
   "codemirror_mode": {
    "name": "ipython",
    "version": 3
   },
   "file_extension": ".py",
   "mimetype": "text/x-python",
   "name": "python",
   "nbconvert_exporter": "python",
   "pygments_lexer": "ipython3",
   "version": "3.7.7"
  }
 },
 "nbformat": 4,
 "nbformat_minor": 4
}
