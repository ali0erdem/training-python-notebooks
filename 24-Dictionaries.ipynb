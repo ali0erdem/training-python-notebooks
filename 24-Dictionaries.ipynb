{
 "cells": [
  {
   "cell_type": "markdown",
   "metadata": {},
   "source": [
    "### DICTIONRIES\n",
    "\n",
    "* It uses curly braces {}\n",
    "* Comma(,) seperated key-value pairs\n",
    "* Each pair tied together with a colon(:)\n",
    "------------------ \n",
    "* Values are accessible via the keys.\n",
    "* Keys must be unique. But, we can have duplicate values.\n",
    "------------------  \n",
    "* Internally, Dictionary maintains pair of references to the key objects and the value objects.\n",
    "* Key objects must be immutable. Strings, numbers, tuples are ok. But, lists not.\n",
    "* Value onject can be mutable."
   ]
  },
  {
   "cell_type": "code",
   "execution_count": 1,
   "metadata": {},
   "outputs": [
    {
     "data": {
      "text/plain": [
       "[('ali', 29), ('cur', 28), ('vefa', 1.5)]"
      ]
     },
     "execution_count": 1,
     "metadata": {},
     "output_type": "execute_result"
    }
   ],
   "source": [
    "names_ages = [(\"ali\", 29), (\"cur\", 28), (\"vefa\", 1.5)]\n",
    "names_ages # tuple series as a list."
   ]
  },
  {
   "cell_type": "code",
   "execution_count": 4,
   "metadata": {},
   "outputs": [
    {
     "data": {
      "text/plain": [
       "{'ali': 29, 'cur': 28, 'vefa': 1.5}"
      ]
     },
     "execution_count": 4,
     "metadata": {},
     "output_type": "execute_result"
    }
   ],
   "source": [
    "d_names_ages = dict(names_ages)\n",
    "d_names_ages"
   ]
  },
  {
   "cell_type": "code",
   "execution_count": 26,
   "metadata": {},
   "outputs": [
    {
     "data": {
      "text/plain": [
       "{'a': 'ali', 'b': 'baba', 'v': 've', 'k': 'kırk', 'h': 'haramiler'}"
      ]
     },
     "execution_count": 26,
     "metadata": {},
     "output_type": "execute_result"
    }
   ],
   "source": [
    "acr = dict(a = \"ali\", b = \"baba\", v = \"ve\", k = \"kırk\", h = \"haramiler\")\n",
    "acr"
   ]
  },
  {
   "cell_type": "code",
   "execution_count": 23,
   "metadata": {},
   "outputs": [
    {
     "name": "stdout",
     "output_type": "stream",
     "text": [
      "{1: ['ali', 'veli'], 2: 'cur'}\n",
      "{1: ['ali', 'veli'], 2: 'cur'}\n",
      "{1: ['ali', 'veli'], 2: 'cur'}\n"
     ]
    }
   ],
   "source": [
    "# As with lists, DICT copying is shallow.\n",
    "# Only copy references to the key and  the value objects.\n",
    "# Not objects themself.\n",
    "\n",
    "x = {1: [\"ali\", \"veli\"], 2: \"cur\"}\n",
    "\n",
    "y = x.copy() # Shallow Copy\n",
    "z = dict(x) # Shallow Copy\n",
    "\n",
    "print(x)\n",
    "print(y)\n",
    "print(z)"
   ]
  },
  {
   "cell_type": "code",
   "execution_count": 24,
   "metadata": {},
   "outputs": [
    {
     "name": "stdout",
     "output_type": "stream",
     "text": [
      "{1: ['ali', 'veli', 'ahmet'], 2: 'cur'}\n",
      "{1: ['ali', 'veli', 'ahmet'], 2: 'cur'}\n",
      "{1: ['ali', 'veli', 'ahmet'], 2: 'cur'}\n"
     ]
    }
   ],
   "source": [
    "x[1].append(\"ahmet\")\n",
    "print(x)\n",
    "print(y)\n",
    "print(z)"
   ]
  },
  {
   "cell_type": "code",
   "execution_count": 35,
   "metadata": {},
   "outputs": [
    {
     "name": "stdout",
     "output_type": "stream",
     "text": [
      "{'ali': 29, 'cur': 28}\n",
      "{'vefa': 1.5}\n"
     ]
    },
    {
     "data": {
      "text/plain": [
       "{'ali': 29, 'cur': 28, 'vefa': 1.5}"
      ]
     },
     "execution_count": 35,
     "metadata": {},
     "output_type": "execute_result"
    }
   ],
   "source": [
    "# update() method works like merge. \n",
    "# 2 dict will be merged.\n",
    "# If the key is exist, value will be updated.\n",
    "# Else, new key-value pair will be inserted.\n",
    "\n",
    "name_age = {\"ali\": 29, \"cur\": 28}\n",
    "print(name_age)\n",
    "new_dict = dict(vefa = 1.5) # If we use quotes on key, We will see an error.\n",
    "print(new_dict)\n",
    "\n",
    "\n",
    "name_age.update(new_dict)\n",
    "name_age"
   ]
  },
  {
   "cell_type": "code",
   "execution_count": 27,
   "metadata": {},
   "outputs": [
    {
     "name": "stdout",
     "output_type": "stream",
     "text": [
      "a => ali\n",
      "b => baba\n",
      "v => ve\n",
      "k => kırk\n",
      "h => haramiler\n"
     ]
    }
   ],
   "source": [
    "# Dictionaries are iterable. \n",
    "# We can use in for loops.\n",
    "# values() returns only the values \n",
    "# keys() returns only the keys\n",
    "# items() This function return key value pair as a tuple. (key, value)\n",
    "\n",
    "for key, value in acr.items():\n",
    "    print(f\"{key} => {value}\")"
   ]
  },
  {
   "cell_type": "code",
   "execution_count": 61,
   "metadata": {},
   "outputs": [
    {
     "name": "stdout",
     "output_type": "stream",
     "text": [
      "{'usd': '$', 'gdp': '£', 'eur': '€', 'tr': '₺'}\n"
     ]
    },
    {
     "data": {
      "text/plain": [
       "True"
      ]
     },
     "execution_count": 61,
     "metadata": {},
     "output_type": "execute_result"
    }
   ],
   "source": [
    "# For MEMBERSHIP we can use IN and NOT IN\n",
    "\n",
    "symbols = dict(usd = '$', gdp = '£', eur = '€', tr = '₺')\n",
    "print(symbols)\n",
    "\n",
    "'usd' in symbols"
   ]
  },
  {
   "cell_type": "code",
   "execution_count": 62,
   "metadata": {},
   "outputs": [
    {
     "data": {
      "text/plain": [
       "False"
      ]
     },
     "execution_count": 62,
     "metadata": {},
     "output_type": "execute_result"
    }
   ],
   "source": [
    "'tr' not in symbols"
   ]
  },
  {
   "cell_type": "code",
   "execution_count": 63,
   "metadata": {},
   "outputs": [
    {
     "data": {
      "text/plain": [
       "{'usd': '$', 'gdp': '£', 'eur': '€'}"
      ]
     },
     "execution_count": 63,
     "metadata": {},
     "output_type": "execute_result"
    }
   ],
   "source": [
    "# Like lists we can remove key-value pairs with DEL.\n",
    "\n",
    "del symbols[\"tr\"]\n",
    "symbols"
   ]
  },
  {
   "cell_type": "code",
   "execution_count": 70,
   "metadata": {},
   "outputs": [
    {
     "data": {
      "text/plain": [
       "{'usd': '$', 'gdp': '£', 'eur': '€', 'try': '₺', 'jpy': '¥'}"
      ]
     },
     "execution_count": 70,
     "metadata": {},
     "output_type": "execute_result"
    }
   ],
   "source": [
    "# Add pairs\n",
    "\n",
    "symbols['try'] = '₺'\n",
    "symbols['jpy'] = '¥'\n",
    "symbols"
   ]
  },
  {
   "cell_type": "code",
   "execution_count": 71,
   "metadata": {},
   "outputs": [
    {
     "name": "stdout",
     "output_type": "stream",
     "text": [
      "{1: 'ali', 2: 'cur'}\n"
     ]
    },
    {
     "data": {
      "text/plain": [
       "{1: 'ali erdem', 2: 'cur'}"
      ]
     },
     "execution_count": 71,
     "metadata": {},
     "output_type": "execute_result"
    }
   ],
   "source": [
    "# Augmented assignment\n",
    "\n",
    "persons = {1 : \"ali\", 2: 'cur'}\n",
    "print(persons)\n",
    "persons[1] += \" erdem\" # This code will append the string to the value of 1.\n",
    "\n",
    "persons"
   ]
  },
  {
   "cell_type": "code",
   "execution_count": 75,
   "metadata": {},
   "outputs": [
    {
     "name": "stdout",
     "output_type": "stream",
     "text": [
      "{'ali': 29, 'cur': 27}\n"
     ]
    },
    {
     "data": {
      "text/plain": [
       "{'ali': 30, 'cur': 27}"
      ]
     },
     "execution_count": 75,
     "metadata": {},
     "output_type": "execute_result"
    }
   ],
   "source": [
    "x = dict(ali = 29, cur = 27)\n",
    "print(x)\n",
    "\n",
    "x['ali'] += 1 \n",
    "x"
   ]
  }
 ],
 "metadata": {
  "kernelspec": {
   "display_name": "Python 3",
   "language": "python",
   "name": "python3"
  },
  "language_info": {
   "codemirror_mode": {
    "name": "ipython",
    "version": 3
   },
   "file_extension": ".py",
   "mimetype": "text/x-python",
   "name": "python",
   "nbconvert_exporter": "python",
   "pygments_lexer": "ipython3",
   "version": "3.7.7"
  }
 },
 "nbformat": 4,
 "nbformat_minor": 4
}
